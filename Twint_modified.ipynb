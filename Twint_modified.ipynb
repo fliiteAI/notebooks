{
  "nbformat": 4,
  "nbformat_minor": 0,
  "metadata": {
    "colab": {
      "name": "Twint modified",
      "provenance": [],
      "collapsed_sections": [],
      "include_colab_link": true
    },
    "kernelspec": {
      "name": "python3",
      "display_name": "Python 3"
    },
    "language_info": {
      "name": "python"
    }
  },
  "cells": [
    {
      "cell_type": "markdown",
      "metadata": {
        "id": "view-in-github",
        "colab_type": "text"
      },
      "source": [
        "<a href=\"https://colab.research.google.com/github/fliiteAI/notebooks/blob/main/Twint_modified.ipynb\" target=\"_parent\"><img src=\"https://colab.research.google.com/assets/colab-badge.svg\" alt=\"Open In Colab\"/></a>"
      ]
    },
    {
      "cell_type": "code",
      "metadata": {
        "colab": {
          "base_uri": "https://localhost:8080/"
        },
        "id": "5m9DRGkdbKVy",
        "outputId": "1574a3a8-73ca-4617-da68-036a333c4b9b"
      },
      "source": [
        "#!git clone --depth=1 https://github.com/twintproject/twint.git\n",
        "#!cd /content/twint && pip3 install . -r requirements.txt\n",
        "#!pip install aiohttp==3.7.0\n",
        "#!pip install nest_asyncio\n",
        "import twint\n",
        "import nest_asyncio\n",
        "nest_asyncio.apply()\n",
        "import time\n",
        "import pandas as pd\n",
        "import os\n",
        "import re\n",
        "timestr = time.strftime(\"%Y%m%d\")\n",
        "\n",
        "c = twint.Config()\n",
        "c.Limit = 10000\n",
        "c.Lang = \"en\"\n",
        "c.Store_csv = True\n",
        "#c.Since = '2017-11-20'\n",
        "#c.Until = '2018-11-30'\n",
        "#c.Username = 'hebasweetheart7'\n",
        "#c.User_id = 1318206952804130816\n",
        "c.Resume = \"my_search_id_.txt\"\n",
        "c.Search = \"melissa schuman\"\n",
        "c.Output = timestr + \"heba.csv\"\n",
        "twint.run.Search(c)\n"
      ],
      "execution_count": 19,
      "outputs": [
        {
          "output_type": "stream",
          "name": "stdout",
          "text": [
            "[!] No more data! Scraping will stop now.\n",
            "found 0 deleted tweets in this search.\n"
          ]
        }
      ]
    },
    {
      "cell_type": "markdown",
      "source": [
        "# New Section"
      ],
      "metadata": {
        "id": "IDnpiOmD8gBx"
      }
    }
  ]
}